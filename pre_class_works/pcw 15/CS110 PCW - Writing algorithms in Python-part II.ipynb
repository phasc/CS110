{
 "cells": [
  {
   "cell_type": "markdown",
   "metadata": {},
   "source": [
    "Before you turn this problem in, make sure everything runs as expected. First, **restart the kernel** (in the menubar, select Kernel$\\rightarrow$Restart) and then **run all cells** (in the menubar, select Cell$\\rightarrow$Run All).\n",
    "\n",
    "Note that this Pre-class Work is estimated to take **38 minutes**.\n",
    "\n",
    "Make sure you fill in any place that says `YOUR CODE HERE` or \"YOUR ANSWER HERE\", as well as your name and collaborators below:"
   ]
  },
  {
   "cell_type": "code",
   "execution_count": 1,
   "metadata": {},
   "outputs": [],
   "source": [
    "NAME = \"Pedro\"\n",
    "COLLABORATORS = \"\""
   ]
  },
  {
   "cell_type": "markdown",
   "metadata": {},
   "source": [
    "---"
   ]
  },
  {
   "cell_type": "markdown",
   "metadata": {
    "deletable": false,
    "editable": false,
    "nbgrader": {
     "checksum": "df135f0c4ea26cc7c0b25cb64a20e634",
     "grade": false,
     "grade_id": "cell-b46066345313bea6",
     "locked": true,
     "schema_version": 1,
     "solution": false
    }
   },
   "source": [
    "# CS110 Pre-class Work - Writing algorithms in Python--part II\n",
    "\n",
    "## Question 1 [time estimate: 3 minutes]\n",
    "\n",
    "Why would you use a class with its methods and attributes rather than defining a function in the main block of your code? Feel free to use the examples given in the Study Guide, or feel free to provide your own."
   ]
  },
  {
   "cell_type": "markdown",
   "metadata": {
    "deletable": false,
    "nbgrader": {
     "checksum": "104f443d240e2139d778711f6bc0a766",
     "grade": true,
     "grade_id": "cell-3bac59ff24b11a27",
     "locked": false,
     "points": 0,
     "schema_version": 1,
     "solution": true
    }
   },
   "source": [
    "Organization, reusability, encapsulation, inheritance...."
   ]
  },
  {
   "cell_type": "markdown",
   "metadata": {
    "deletable": false,
    "editable": false,
    "nbgrader": {
     "checksum": "7872c2d656a6cb3aaeff2b4fa41eb204",
     "grade": false,
     "grade_id": "cell-0ca65d04b209f37f",
     "locked": true,
     "schema_version": 1,
     "solution": false
    }
   },
   "source": [
    "## Question 2 [time estimate: 3 minutes]\n",
    "\n",
    "What are the benefits of having instance attributes? Explain your answer."
   ]
  },
  {
   "cell_type": "markdown",
   "metadata": {
    "deletable": false,
    "nbgrader": {
     "checksum": "4ff5af35daed9a5442ba229263bdde33",
     "grade": true,
     "grade_id": "cell-442998d5fdd8b561",
     "locked": false,
     "points": 0,
     "schema_version": 1,
     "solution": true
    }
   },
   "source": [
    "They are specific to an object and are easy to set and get, and you can store many different instances in a single object."
   ]
  },
  {
   "cell_type": "markdown",
   "metadata": {
    "deletable": false,
    "editable": false,
    "nbgrader": {
     "checksum": "9d7a3b260b0fef93382fb52aa393f963",
     "grade": false,
     "grade_id": "cell-0ac1c20b43acb363",
     "locked": true,
     "schema_version": 1,
     "solution": false
    }
   },
   "source": [
    "## Question 3 [time estimate: 3 minutes]\n",
    "\n",
    "Why would you want to introduce these attributes inside the `__init__` method rather than in another place like a method of its own? Explain your answer."
   ]
  },
  {
   "cell_type": "markdown",
   "metadata": {
    "deletable": false,
    "nbgrader": {
     "checksum": "eb02c9951e19ee43d128fa93dd53eaad",
     "grade": true,
     "grade_id": "cell-5ecb51404140cb2f",
     "locked": false,
     "points": 0,
     "schema_version": 1,
     "solution": true
    }
   },
   "source": [
    "Because this method is the first to run when defining a class."
   ]
  },
  {
   "cell_type": "markdown",
   "metadata": {
    "deletable": false,
    "editable": false,
    "nbgrader": {
     "checksum": "cb0b8b9c4b153530d47b437baa24098d",
     "grade": false,
     "grade_id": "cell-b22dce6b32afe1a9",
     "locked": true,
     "schema_version": 1,
     "solution": false
    }
   },
   "source": [
    "## Question 4 [time estimate: 7 minutes]\n",
    "\n",
    "Write a Python class, called `Minervan`, where an instance of this class should represent a Minerva student.\n",
    "\n",
    "For example, Jake is a Minerva student that we want to represent using this class. He is 22 years old, originally from Australia, and is on the class of 2022. He is majoring in Computational Sciences. \n",
    "\n",
    "In the following code cell, write your `Minervan` class, which should contain relevant methods and attributes you can come up with. Justify your choice of methods and attributes in the markdown cell below."
   ]
  },
  {
   "cell_type": "code",
   "execution_count": 3,
   "metadata": {
    "deletable": false,
    "nbgrader": {
     "checksum": "eb02c9951e19ee43d128fa93dd53eaad",
     "grade": true,
     "grade_id": "cell-5ecb51404140cb2f",
     "locked": false,
     "points": 0,
     "schema_version": 1,
     "solution": true
    }
   },
   "outputs": [],
   "source": [
    "class Minervan:\n",
    "    \n",
    "    def __init__(self, age, country, Class, major):\n",
    "        self.age = age\n",
    "        self.country = country\n",
    "        self.Class = Class\n",
    "        self.major = major\n",
    "\n",
    "        \n",
    "Jake = Minervan(22, 'Australia', 22, 'CS')\n",
    "Anitha = Minervan(21, 'UK', 23, 'NS')"
   ]
  },
  {
   "cell_type": "markdown",
   "metadata": {
    "deletable": false,
    "nbgrader": {
     "checksum": "eb02c9951e19ee43d128fa93dd53eaad",
     "grade": true,
     "grade_id": "cell-5ecb51404140cb2f",
     "locked": false,
     "points": 0,
     "schema_version": 1,
     "solution": true
    }
   },
   "source": [
    "Since we are only interested here in having the info for different students, my class only has the method init."
   ]
  },
  {
   "cell_type": "markdown",
   "metadata": {
    "deletable": false,
    "editable": false,
    "nbgrader": {
     "checksum": "cb0b8b9c4b153530d47b437baa24098d",
     "grade": false,
     "grade_id": "cell-b22dce6b32afe1a9",
     "locked": true,
     "schema_version": 1,
     "solution": false
    }
   },
   "source": [
    "## Question 5 [time estimate: 7 minutes]\n",
    "\n",
    "Now add another student, named 'Anitha', as an instance of this class. Choose the relevant attributes for this new student. Which question took you longer to answer—Q4 or Q5? Why?"
   ]
  },
  {
   "cell_type": "markdown",
   "metadata": {
    "deletable": false,
    "nbgrader": {
     "checksum": "eb02c9951e19ee43d128fa93dd53eaad",
     "grade": true,
     "grade_id": "cell-5ecb51404140cb2f",
     "locked": false,
     "points": 0,
     "schema_version": 1,
     "solution": true
    }
   },
   "source": [
    "Q4 took longer beacause I had to write the method as well."
   ]
  },
  {
   "cell_type": "markdown",
   "metadata": {
    "deletable": false,
    "editable": false,
    "nbgrader": {
     "checksum": "cb0b8b9c4b153530d47b437baa24098d",
     "grade": false,
     "grade_id": "cell-b22dce6b32afe1a9",
     "locked": true,
     "schema_version": 1,
     "solution": false
    }
   },
   "source": [
    "## Question 6 [time estimate: 15 minutes] \n",
    "\n",
    "During the session, we will work on the challenging task of computing the course grade for a student given the grades he/she received in each LOs. \n",
    "\n",
    "The algorithm to follow is as follows:\n",
    "\n",
    "Terminology:\n",
    "LO = Learning Objective\n",
    "CO = Course Objective\n",
    "CG = Course Grade\n",
    "\n",
    "Algorithm for computing CGs:\n",
    "1. We first consider the LO grades within each course objective (CO), and compute the weighted mean (using each of the relevant LO grades and corresponding weights). Each course objective will now have an average grade.\n",
    "2. We then compute the average of the COs, to get the CG.\n",
    "\n",
    "We're only going to compute the course grades for Jake, at least for now.\n",
    "\n",
    "\n",
    "### Question 6a\n",
    "\n",
    "In this course there is only 1 course objective called A. Given the grades Jake received for each LO presented on the table below, compute his current course grade manually, following the algorithm above.\n",
    "\n",
    "\n",
    "CO | LO | Weight | Grade | CO Grade\n",
    "--- | --- | --- | --- | ---\n",
    "A | alpha | 1 | 3 |\n",
    "A | alpha | 2 | 2 |\n",
    "A | beta  | 1 | 4 |\n",
    "A | beta  | 2 | 3 |\n",
    "A | beta  | 3 | 2 |\n",
    "A | beta  | 1 | 3 |"
   ]
  },
  {
   "cell_type": "markdown",
   "metadata": {
    "deletable": false,
    "nbgrader": {
     "checksum": "eb02c9951e19ee43d128fa93dd53eaad",
     "grade": true,
     "grade_id": "cell-5ecb51404140cb2f",
     "locked": false,
     "points": 0,
     "schema_version": 1,
     "solution": true
    }
   },
   "source": [
    "(3+4+4+6+6+3)/(1+2+1+2+3+1) = 2.6"
   ]
  },
  {
   "cell_type": "markdown",
   "metadata": {
    "deletable": false,
    "editable": false,
    "nbgrader": {
     "checksum": "cb0b8b9c4b153530d47b437baa24098d",
     "grade": false,
     "grade_id": "cell-b22dce6b32afe1a9",
     "locked": true,
     "schema_version": 1,
     "solution": false
    }
   },
   "source": [
    "### Question 6b\n",
    "\n",
    "The academic team has now introduced an extra course objective, B, and Jake has just received a grade for an LO belonging to this new CO. Compute, manually, what his current course grade is.\n",
    "\n",
    "CO | LO | Weight | Grade | CO Grade | Course Grade\n",
    "--- | --- | --- | --- | --- | ---\n",
    "A | alpha | 1 | 3 |\n",
    "A | alpha | 2 | 2 |\n",
    "A | beta  | 1 | 4 |\n",
    "A | beta  | 2 | 3 |\n",
    "A | beta  | 3 | 2 |\n",
    "A | beta  | 1 | 3 |\n",
    "B | gamma | 2 | 5 |\n",
    "\n",
    "What is the impact of this new LO grade? "
   ]
  },
  {
   "cell_type": "markdown",
   "metadata": {
    "deletable": false,
    "nbgrader": {
     "checksum": "eb02c9951e19ee43d128fa93dd53eaad",
     "grade": true,
     "grade_id": "cell-5ecb51404140cb2f",
     "locked": false,
     "points": 0,
     "schema_version": 1,
     "solution": true
    }
   },
   "source": [
    "(2.6 + 5)/2 = 3.8"
   ]
  },
  {
   "cell_type": "markdown",
   "metadata": {
    "deletable": false,
    "editable": false,
    "nbgrader": {
     "checksum": "cb0b8b9c4b153530d47b437baa24098d",
     "grade": false,
     "grade_id": "cell-b22dce6b32afe1a9",
     "locked": true,
     "schema_version": 1,
     "solution": false
    }
   },
   "source": [
    "### Question 6c\n",
    "\n",
    "Describe here, using at least 100 words, how you would perform this calculation using a Python class."
   ]
  },
  {
   "cell_type": "markdown",
   "metadata": {
    "deletable": false,
    "nbgrader": {
     "checksum": "eb02c9951e19ee43d128fa93dd53eaad",
     "grade": true,
     "grade_id": "cell-5ecb51404140cb2f",
     "locked": false,
     "points": 0,
     "schema_version": 1,
     "solution": true
    }
   },
   "source": [
    "I would have 1 extra atribute to the instances, that would be a list of dictionaries of the grades. Each dictionary would be a new grade with the keys: CO, LO, Weight, and Grade. <br>\n",
    "I would also have 2 new methods, 1 for calculating the CO grade, and the other for the Course grade."
   ]
  },
  {
   "cell_type": "code",
   "execution_count": 11,
   "metadata": {},
   "outputs": [
    {
     "data": {
      "text/plain": [
       "3.8"
      ]
     },
     "execution_count": 11,
     "metadata": {},
     "output_type": "execute_result"
    }
   ],
   "source": [
    "grades = [\n",
    "  {'CO':'A', 'LO':'alpha', 'weight':1, 'grade':3},\n",
    "  {'CO':'A', 'LO':'alpha', 'weight':2, 'grade':2},\n",
    "  {'CO':'A', 'LO':'betha', 'weight':1, 'grade':4},\n",
    "  {'CO':'A', 'LO':'betha', 'weight':2, 'grade':3},\n",
    "  {'CO':'A', 'LO':'betha', 'weight':3, 'grade':2},\n",
    "  {'CO':'A', 'LO':'betha', 'weight':1, 'grade':3},\n",
    "  {'CO':'B', 'LO':'gamma', 'weight':2, 'grade':5},\n",
    "]\n",
    "\n",
    "class Minervan:\n",
    "    \n",
    "    def __init__(self, age, country, Class, major, grades):\n",
    "        self.age = age\n",
    "        self.country = country\n",
    "        self.Class = Class\n",
    "        self.major = major\n",
    "        self.grades = grades\n",
    "        \n",
    "    def COgrade(self, CO):\n",
    "        s = 0\n",
    "        w = 0\n",
    "        for i in self.grades:\n",
    "            if i['CO'] == CO:\n",
    "                s += i['weight']*i['grade']\n",
    "                w += i['weight']\n",
    "        \n",
    "        return s/w\n",
    "    \n",
    "    def Cgrade(self):\n",
    "        l = []\n",
    "        s = 0\n",
    "        for i in self.grades:\n",
    "            if i['CO'] not in l:\n",
    "                l.append(i[\"CO\"])\n",
    "        for i in l:\n",
    "            s += self.COgrade(i)\n",
    "        \n",
    "        return s/len(l)\n",
    "\n",
    "    \n",
    "Jake = Minervan(22, 'Australia', 22, 'CS', grades)\n",
    "Jake.Cgrade()"
   ]
  },
  {
   "cell_type": "code",
   "execution_count": null,
   "metadata": {},
   "outputs": [],
   "source": []
  }
 ],
 "metadata": {
  "kernelspec": {
   "display_name": "Python 3",
   "language": "python",
   "name": "python3"
  },
  "language_info": {
   "codemirror_mode": {
    "name": "ipython",
    "version": 3
   },
   "file_extension": ".py",
   "mimetype": "text/x-python",
   "name": "python",
   "nbconvert_exporter": "python",
   "pygments_lexer": "ipython3",
   "version": "3.7.3"
  }
 },
 "nbformat": 4,
 "nbformat_minor": 2
}

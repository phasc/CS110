{
 "cells": [
  {
   "cell_type": "markdown",
   "metadata": {},
   "source": [
    "## The Problem ##\n",
    "\n",
    "For this assignment, I want to create an algorithm that stores the words from the lyrics of your favorite songs. This is a very interesting algorithm, as it shows different applications of data structures, and helps me practice, what I believe, is one of the most important skills for coding, working with pre-existing libraries and API. <br>\n",
    "For this application, I'll be comparing 2 different data structures for storing words and counting them, and I will also word with the Tekore library, an API that connects python with data from Spotify, and the Lyrics Genius library, another API that connects python with the data from the website Genius, to get the lyrics of songs."
   ]
  },
  {
   "cell_type": "markdown",
   "metadata": {},
   "source": [
    "## Modifying the trie structure ##\n",
    "\n",
    "In this first part, I'm using the feedback from my previous assignment to modify the Trie data-structure for it to be more efficient.<br>\n",
    "The first modification was storing the children nodes in dictionaries (hash tables) instead of lists, which decreases the time complexity of the lookup from $O(n)$ to $O(1)$. <br>\n",
    "The second modification was using a heap (with the heapq library) to store the list of repetitions instead of a list. This decreases the time complexity of the k_most_common from $O(n log n)$ to $O(k log n)$. That is because by storing in a list we have to sort the whole list to get the k most common, and even the best sorting algorithm we've seen has a time complexity of $O(nlogn)$. However, if we store on a heap, we have $O(1)$ to get the smallest (or biggest) element and $O(logn)$ to take this element out of the heap in a way that we keep the heap properties, so if we do this k times, we have $O(k logn)$."
   ]
  },
  {
   "cell_type": "code",
   "execution_count": 2,
   "metadata": {},
   "outputs": [],
   "source": [
    "import heapq\n",
    "\n",
    "class Node:\n",
    "    \"\"\"This class represents one node of a trie tree.\n",
    "    \n",
    "    Parameters\n",
    "    ----------\n",
    "    The parameters for the Node class are not predetermined.\n",
    "    However, you will likely need to create one or more of them.\n",
    "    \"\"\"\n",
    "\n",
    "    def __init__(self, data = None, parent = None, count = 0):\n",
    "        \n",
    "        self.data = data\n",
    "        self.parent = parent\n",
    "        self.children = {}\n",
    "        self.word_end = False\n",
    "        self.word_count = count\n",
    "        \n",
    "class Trie:\n",
    "    \"\"\"This class represents the entirety of a trie tree.\n",
    "    \n",
    "    Parameters\n",
    "    ----------\n",
    "    The parameters for Trie's __init__ are not predetermined.\n",
    "    However, you will likely need one or more of them.    \n",
    "    \n",
    "    Methods\n",
    "    -------\n",
    "    insert(self, word)\n",
    "        Inserts a word into the trie, creating nodes as required.\n",
    "    lookup(self, word)\n",
    "        Determines whether a given word is present in the trie.\n",
    "    insert_word_list(self)\n",
    "        inserts all the words in the word list in the trie.\n",
    "    list_of_repetitions(self, root, wordsInOrder=[]):\n",
    "        give a list of al the words in the trie and how many times they repeated\n",
    "    k_most_common(self, k):\n",
    "        Finds k words inserted into the trie most often.\n",
    "    \"\"\"\n",
    "    \n",
    "    def __init__(self, word_list = None):\n",
    "        \"\"\"Creates the Trie instance, inserts initial words if provided.\n",
    "        \n",
    "        Parameters\n",
    "        ----------\n",
    "        word_list : list\n",
    "            List of strings to be inserted into the trie upon creation.\n",
    "        \"\"\"\n",
    "        self.word_list = word_list\n",
    "        self.root = Node()\n",
    "        \n",
    "        if word_list:\n",
    "            self.insert_word_list()\n",
    "    \n",
    "    def insert(self, word):\n",
    "        \"\"\"Inserts a word into the trie, creating missing nodes on the go.\n",
    "        \n",
    "        Parameters\n",
    "        ----------\n",
    "        word : str\n",
    "            The word to be inserted into the trie.\n",
    "        \"\"\"\n",
    "        word = word.lower()  #makes all the letters lower-case\n",
    "        current = self.root   #current node is the root\n",
    "        for letter in word:   #iterate through the word\n",
    "            \n",
    "            #checking if the current letter exists in the current node children  \n",
    "            if letter in current.children:\n",
    "                current = current.children[letter] #current update\n",
    "                \n",
    "            else:\n",
    "                newLetter = Node(data=letter,parent=current)  #create new node for the letter\n",
    "                current.children[letter] = newLetter #add the node to the children\n",
    "                current = newLetter   #updates current\n",
    "                \n",
    "        current.word_end = True   #when its the last letter, set it to be the end of a word      \n",
    "        current.word_count += 1    #increasses the word count    \n",
    "        \n",
    "                \n",
    "    def insert_word_list(self):\n",
    "        \"\"\"inserts all the words in the word list in the trie.\n",
    "        \n",
    "        Parameters\n",
    "        ----------\n",
    "        None\n",
    "            \n",
    "        Returns\n",
    "        -------\n",
    "        None\n",
    "        \"\"\"\n",
    "        for word in self.word_list:\n",
    "            self.insert(word)\n",
    "\n",
    "            \n",
    "    def lookup(self, word):\n",
    "        \"\"\"Determines whether a given word is present in the trie.\n",
    "        \n",
    "        Parameters\n",
    "        ----------\n",
    "        word : str\n",
    "            The word to be looked-up in the trie.\n",
    "            \n",
    "        Returns\n",
    "        -------\n",
    "        bool\n",
    "            True if the word is present in trie; False otherwise.\n",
    "        \"\"\" \n",
    "        \n",
    "        word = word.lower()   #makes all the letters lower-case \n",
    "        current = self.root     #current node is the root\n",
    "        for letter in word:     #iterate through the word\n",
    "            \n",
    "            #checking if the current letter exists in the current node children  \n",
    "            if letter in current.children:\n",
    "                current = current.children[letter] #current update\n",
    "                \n",
    "            else:\n",
    "                return False\n",
    "        \n",
    "        #checks if it is a prefix or a word\n",
    "        if current.word_end:\n",
    "            return True\n",
    "        else:\n",
    "            return False\n",
    "        \n",
    "    \n",
    "    def list_of_repetitions(self, root, wordsInOrder=[]):\n",
    "        \"\"\"give a list of al the words in the trie and how many times they repeated\n",
    "        \n",
    "        Parameters\n",
    "        ----------\n",
    "        Node - root\n",
    "        \n",
    "        List of tupples - wordsInOrder\n",
    "            \n",
    "        Returns\n",
    "        -------\n",
    "        List of tupples\n",
    "        \"\"\"\n",
    "        \n",
    "        current = root  #current node is the root\n",
    "        if current.children != {}:   #base case (when current node has no children)\n",
    "            for child in list(current.children.values()):   #iterate through currents children\n",
    "                if child.word_end:    #checks if the child is the end of a word\n",
    "                    letter = child   #stores the child node in the var letter\n",
    "                    word = ''       #initializing the word\n",
    "                    while letter.parent is not None:     #goes up in the trie until it reaches the root\n",
    "                        word += letter.data    #appends the letter in the word\n",
    "                        letter = letter.parent   #updates the letter\n",
    "                    word = word[::-1]    #since we climbed up the trie, we need to invert the word\n",
    "                    heapq.heappush(wordsInOrder,(-child.word_count, word))  #inserts the word and the count in the heap\n",
    "                self.list_of_repetitions(child,wordsInOrder)   # recursivelly calls the the function again using the child as the root\n",
    "        return wordsInOrder\n",
    "    \n",
    "    \n",
    "    def k_most_common(self, k):\n",
    "        \"\"\"Finds k words inserted into the trie most often.\n",
    "\n",
    "        You will have to tweak some properties of your existing code,\n",
    "        so that it captures information about repeated insertion.\n",
    "\n",
    "        Parameters\n",
    "        ----------\n",
    "        k : int\n",
    "            Number of most common words to be returned.\n",
    "\n",
    "        Returns\n",
    "        ----------\n",
    "        list\n",
    "            List of tuples.\n",
    "            \n",
    "            Each tuple entry consists of the word and its frequency.\n",
    "            The entries are sorted by frequency.\n",
    "\n",
    "        Example\n",
    "        -------\n",
    "        >>> print(trie.k_most_common(3))\n",
    "        [(‘the’, 154), (‘a’, 122), (‘i’, 122)]\n",
    "        \n",
    "        This means that the word ‘the’ has appeared 154 times in the inserted text.\n",
    "        The second and third most common words both appeared 122 times.\n",
    "        \"\"\"\n",
    "        completeList = self.list_of_repetitions(self.root, wordsInOrder=[])   #get the whole priority queue of words and word counts (inverted)\n",
    "        km = [heapq.heappop(completeList) for i in range(k)]   #gets the k smallest (the values for repetion are negative) elements of the heap \n",
    "        km = [(i[1],-i[0]) for i in km]\n",
    "        return km "
   ]
  },
  {
   "cell_type": "code",
   "execution_count": 3,
   "metadata": {},
   "outputs": [
    {
     "data": {
      "text/plain": [
       "[('teste', 3)]"
      ]
     },
     "execution_count": 3,
     "metadata": {},
     "output_type": "execute_result"
    }
   ],
   "source": [
    "#simple testing\n",
    "wordbank = \"oi oi a teste teste teste\".split()\n",
    "trie = Trie(wordbank)\n",
    "trie.k_most_common(1)"
   ]
  },
  {
   "cell_type": "markdown",
   "metadata": {},
   "source": [
    "## Doing the same functions, but with a hash table instead of trie ##\n",
    "\n",
    "As my second data-structure, I decided to go with a hash table. I'm simply using the built-in dictionaries since this is way more efficient and less time-consuming than trying to come up with my own hash functions and methods to solve collisions. <br>\n",
    "I think that using a hash table here is a great solution since it has $O(1)$ time complexity for lookup and for insertion. It is also better memory-wise since instead of having an object with a dictionary inside for every letter of a word, it simply has one key and one value for every different word."
   ]
  },
  {
   "cell_type": "code",
   "execution_count": 4,
   "metadata": {},
   "outputs": [],
   "source": [
    "class HT:\n",
    "    def __init__(self, word_list = None):\n",
    "        \"\"\"Creates the Hash Table instane, inserts initial words if provided.\n",
    "        \n",
    "        Parameters\n",
    "        ----------\n",
    "        word_list : list\n",
    "            List of strings to be inserted upon creation.\n",
    "        \"\"\"\n",
    "        self.word_list = word_list\n",
    "        self.data = {}\n",
    "        \n",
    "        if word_list:\n",
    "            self.insert_word_list()\n",
    "            \n",
    "    def lookup(self, word):\n",
    "        \"\"\"Determines whether a given word is present in the Hash Table.\n",
    "        \n",
    "        Parameters\n",
    "        ----------\n",
    "        word : str\n",
    "            The word to be looked-up.\n",
    "            \n",
    "        Returns\n",
    "        -------\n",
    "        bool\n",
    "            True if the word is present; False otherwise.\n",
    "        \"\"\" \n",
    "        \n",
    "        word = word.lower()   #makes all the letters lower-case  \n",
    "        return (word in self.data)\n",
    "    \n",
    "            \n",
    "    def insert(self, word):\n",
    "        \"\"\"Inserts a word into the Hash Table.\n",
    "        \n",
    "        Parameters\n",
    "        ----------\n",
    "        word : str\n",
    "            The word to be inserted.\n",
    "        \"\"\"\n",
    "        \n",
    "        word = word.lower()   #makes all the letters lower-case\n",
    "        \n",
    "        if self.lookup(word):  \n",
    "            self.data[word]+=1  #adds to the counter of the word if the word is already there\n",
    "        else:\n",
    "            self.data[word]=1   #simply uses a new slot of the dictionary if the word is not already there\n",
    "            \n",
    "            \n",
    "    def insert_word_list(self):\n",
    "        \"\"\"inserts all the words in the word list in the Hash Table.\n",
    "        \n",
    "        Parameters\n",
    "        ----------\n",
    "        None\n",
    "            \n",
    "        Returns\n",
    "        -------\n",
    "        None\n",
    "        \"\"\"\n",
    "        for word in self.word_list:\n",
    "            self.insert(word)\n",
    "            \n",
    "    def k_most_common(self, k):\n",
    "        \"\"\"Finds k words inserted into the Hash Table most often.\n",
    "\n",
    "        Parameters\n",
    "        ----------\n",
    "        k : int\n",
    "            Number of most common words to be returned.\n",
    "\n",
    "        Returns\n",
    "        ----------\n",
    "        list\n",
    "            List of tuples.\n",
    "            \n",
    "            Each tuple entry consists of the word and its frequency.\n",
    "            The entries are sorted by frequency.\n",
    "        \"\"\"\n",
    "        \n",
    "        k_most_common_keys = heapq.nlargest(k, self.data, key=self.data.get)   #gets the k largest elements, by counter\n",
    "        return [(i,self.data[i]) for i in k_most_common_keys]"
   ]
  },
  {
   "cell_type": "code",
   "execution_count": 5,
   "metadata": {},
   "outputs": [
    {
     "data": {
      "text/plain": [
       "[('teste', 3)]"
      ]
     },
     "execution_count": 5,
     "metadata": {},
     "output_type": "execute_result"
    }
   ],
   "source": [
    "#simple testing\n",
    "wordbank = \"oi oi a teste teste teste\".split()\n",
    "ht = HT(wordbank)\n",
    "ht.k_most_common(1)"
   ]
  },
  {
   "cell_type": "markdown",
   "metadata": {},
   "source": [
    "## Comparing both data structures ##\n",
    "\n",
    "In order to compare both structures, I'll use a more experimental approach. Using the big word bank from the previous assignment, I'll randomly (to make it less biased) select n words from it and measure the time that it takes for both structures to insert and give me the 1 most common and 1% (kind of) most common words, then I'll increase n and measure again. This will hopefully give me a graph that will model the asymptotic behavior of the functions."
   ]
  },
  {
   "cell_type": "code",
   "execution_count": 6,
   "metadata": {},
   "outputs": [],
   "source": [
    "#code adapted from the last assignment to get a good wordbank\n",
    "import random\n",
    "import string\n",
    "import time\n",
    "import matplotlib.pyplot as plt\n",
    "\n",
    "import urllib.request\n",
    "response = urllib.request.urlopen('http://bit.ly/CS110-Shakespeare')\n",
    "bad_chars = [';', ',', '.', '?', '!', '1', '2', '3', '4', '5', '6', '7', '8', '9', '0', '_', '[', ']', '\"', '&', \"'\", '(', ')', '{', '}']\n",
    "\n",
    "wordlist = []\n",
    "\n",
    "for line in response:\n",
    "    line = line.decode(encoding = 'utf-8')\n",
    "    line = filter(lambda i: i not in bad_chars, line)\n",
    "    words = \"\".join(line).split()\n",
    "    for word in words:\n",
    "        wordlist.append(word)    "
   ]
  },
  {
   "cell_type": "code",
   "execution_count": 6,
   "metadata": {},
   "outputs": [],
   "source": [
    "#this cell might take a couple of minutes to run, please wait until it is done to rune the next one\n",
    "\n",
    "times_trie = []\n",
    "times_HT = []\n",
    "\n",
    "for i in range(1,10001,500):\n",
    "    wordbank = random.sample(wordlist, i)\n",
    "    \n",
    "    time_trie = 0\n",
    "    time_HT = 0\n",
    "    \n",
    "    for j in range(10):\n",
    "        s = time.perf_counter()   #start timer\n",
    "        trie = Trie(wordbank)\n",
    "        trie.k_most_common(1)\n",
    "        trie.k_most_common(i//100)\n",
    "        e = time.perf_counter()  #end timer\n",
    "        time_trie += (e-s)\n",
    "    times_trie.append(time_trie/10)\n",
    "    \n",
    "    for j in range(10):\n",
    "        s = time.perf_counter()   #start timer\n",
    "        ht = HT(wordbank)\n",
    "        ht.k_most_common(1)\n",
    "        ht.k_most_common(i//100)\n",
    "        e = time.perf_counter()  #end timer\n",
    "        time_HT += (e-s)\n",
    "    times_HT.append(time_HT/10)"
   ]
  },
  {
   "cell_type": "code",
   "execution_count": 7,
   "metadata": {},
   "outputs": [
    {
     "ename": "NameError",
     "evalue": "name 'times_trie' is not defined",
     "output_type": "error",
     "traceback": [
      "\u001b[1;31m---------------------------------------------------------------------------\u001b[0m",
      "\u001b[1;31mNameError\u001b[0m                                 Traceback (most recent call last)",
      "\u001b[1;32m<ipython-input-7-bbfaafa35d3f>\u001b[0m in \u001b[0;36m<module>\u001b[1;34m\u001b[0m\n\u001b[1;32m----> 1\u001b[1;33m \u001b[0mplt\u001b[0m\u001b[1;33m.\u001b[0m\u001b[0mplot\u001b[0m\u001b[1;33m(\u001b[0m\u001b[0mlist\u001b[0m\u001b[1;33m(\u001b[0m\u001b[0mrange\u001b[0m\u001b[1;33m(\u001b[0m\u001b[1;36m1\u001b[0m\u001b[1;33m,\u001b[0m\u001b[1;36m10001\u001b[0m\u001b[1;33m,\u001b[0m\u001b[1;36m500\u001b[0m\u001b[1;33m)\u001b[0m\u001b[1;33m)\u001b[0m\u001b[1;33m,\u001b[0m\u001b[0mtimes_trie\u001b[0m\u001b[1;33m,\u001b[0m \u001b[0mc\u001b[0m\u001b[1;33m=\u001b[0m\u001b[1;34m'blue'\u001b[0m\u001b[1;33m)\u001b[0m\u001b[1;33m\u001b[0m\u001b[1;33m\u001b[0m\u001b[0m\n\u001b[0m\u001b[0;32m      2\u001b[0m \u001b[0mplt\u001b[0m\u001b[1;33m.\u001b[0m\u001b[0mplot\u001b[0m\u001b[1;33m(\u001b[0m\u001b[0mlist\u001b[0m\u001b[1;33m(\u001b[0m\u001b[0mrange\u001b[0m\u001b[1;33m(\u001b[0m\u001b[1;36m1\u001b[0m\u001b[1;33m,\u001b[0m\u001b[1;36m10001\u001b[0m\u001b[1;33m,\u001b[0m\u001b[1;36m500\u001b[0m\u001b[1;33m)\u001b[0m\u001b[1;33m)\u001b[0m\u001b[1;33m,\u001b[0m\u001b[0mtimes_HT\u001b[0m\u001b[1;33m,\u001b[0m \u001b[0mc\u001b[0m\u001b[1;33m=\u001b[0m\u001b[1;34m'red'\u001b[0m\u001b[1;33m)\u001b[0m\u001b[1;33m\u001b[0m\u001b[1;33m\u001b[0m\u001b[0m\n\u001b[0;32m      3\u001b[0m \u001b[1;33m\u001b[0m\u001b[0m\n\u001b[0;32m      4\u001b[0m \u001b[0mplt\u001b[0m\u001b[1;33m.\u001b[0m\u001b[0mlegend\u001b[0m\u001b[1;33m(\u001b[0m\u001b[1;33m[\u001b[0m\u001b[1;34m'Trie'\u001b[0m\u001b[1;33m,\u001b[0m\u001b[1;34m'Hash Table'\u001b[0m\u001b[1;33m]\u001b[0m\u001b[1;33m)\u001b[0m\u001b[1;33m\u001b[0m\u001b[1;33m\u001b[0m\u001b[0m\n\u001b[0;32m      5\u001b[0m \u001b[0mplt\u001b[0m\u001b[1;33m.\u001b[0m\u001b[0mxlabel\u001b[0m\u001b[1;33m(\u001b[0m\u001b[1;34m'Input Size'\u001b[0m\u001b[1;33m)\u001b[0m\u001b[1;33m\u001b[0m\u001b[1;33m\u001b[0m\u001b[0m\n",
      "\u001b[1;31mNameError\u001b[0m: name 'times_trie' is not defined"
     ]
    }
   ],
   "source": [
    "plt.plot(list(range(1,10001,500)),times_trie, c='blue')\n",
    "plt.plot(list(range(1,10001,500)),times_HT, c='red')\n",
    "\n",
    "plt.legend(['Trie','Hash Table'])\n",
    "plt.xlabel('Input Size')\n",
    "plt.ylabel('Time (s)')\n",
    "plt.title('Trie vs Hash Table')\n",
    "\n",
    "plt.show()"
   ]
  },
  {
   "cell_type": "markdown",
   "metadata": {},
   "source": [
    "Since this code would take a very long time to run for a bigger number of words, here is an image of the same graph but with more data, so it will be easier to analize."
   ]
  },
  {
   "cell_type": "code",
   "execution_count": 12,
   "metadata": {},
   "outputs": [
    {
     "data": {
      "image/jpeg": "[encoded data removed]",
      "text/plain": [
       "<IPython.core.display.Image object>"
      ]
     },
     "execution_count": 12,
     "metadata": {},
     "output_type": "execute_result"
    }
   ],
   "source": [
    "from IPython.display import Image\n",
    "Image(filename=\"graph.jpg\")"
   ]
  },
  {
   "cell_type": "markdown",
   "metadata": {},
   "source": [
    "The first we can see is that for every value of n, the hash table performs better. They both appear to have linear time complexity by this graph, however, the constant multiplier for the hash table is significantly lower. <br>\n",
    "If we analize both more analitically, we know that they both have $O(klogn)$ for the k_most_common, since they use the same basic \"sort\" to do it. However, the hash table shines at the insertion by using a very simple constant complexity for each word, giving an overway complexiy of $O(n)$ for n words, while the Trie uses a more complicated code, which I meticulouslly described last assignment. <br>\n",
    "With these results, and the fact that the hash table code is simpler and more elegant, I chose to use it for my final implementation."
   ]
  },
  {
   "cell_type": "markdown",
   "metadata": {},
   "source": [
    "## Experimenting with the Tekore API ##\n",
    "\n",
    "I decide to use this open source library mainly for it's simplicity. It has a really complete documentation, well designed code that easilly connects you to the WEB API for Spotify , and even a Discord server to discuss problems.\n",
    "\n",
    "https://pypi.org/project/tekore/"
   ]
  },
  {
   "cell_type": "code",
   "execution_count": 8,
   "metadata": {},
   "outputs": [
    {
     "name": "stdout",
     "output_type": "stream",
     "text": [
      "Requirement already satisfied: tekore in c:\\programdata\\anaconda3\\lib\\site-packages (3.4.1)\n",
      "Requirement already satisfied: httpx<0.17,>=0.11 in c:\\programdata\\anaconda3\\lib\\site-packages (from tekore) (0.16.1)\n",
      "Requirement already satisfied: certifi in c:\\programdata\\anaconda3\\lib\\site-packages (from httpx<0.17,>=0.11->tekore) (2019.6.16)\n",
      "Requirement already satisfied: rfc3986[idna2008]<2,>=1.3 in c:\\programdata\\anaconda3\\lib\\site-packages (from httpx<0.17,>=0.11->tekore) (1.4.0)\n",
      "Requirement already satisfied: httpcore==0.12.* in c:\\programdata\\anaconda3\\lib\\site-packages (from httpx<0.17,>=0.11->tekore) (0.12.2)\n",
      "Requirement already satisfied: sniffio in c:\\programdata\\anaconda3\\lib\\site-packages (from httpx<0.17,>=0.11->tekore) (1.2.0)\n",
      "Requirement already satisfied: idna; extra == \"idna2008\" in c:\\programdata\\anaconda3\\lib\\site-packages (from rfc3986[idna2008]<2,>=1.3->httpx<0.17,>=0.11->tekore) (2.8)\n",
      "Requirement already satisfied: h11==0.* in c:\\programdata\\anaconda3\\lib\\site-packages (from httpcore==0.12.*->httpx<0.17,>=0.11->tekore) (0.11.0)\n",
      "Note: you may need to restart the kernel to use updated packages.\n"
     ]
    },
    {
     "name": "stderr",
     "output_type": "stream",
     "text": [
      "WARNING: You are using pip version 20.0.2; however, version 20.3.1 is available.\n",
      "You should consider upgrading via the 'C:\\ProgramData\\Anaconda3\\python.exe -m pip install --upgrade pip' command.\n"
     ]
    }
   ],
   "source": [
    "pip install tekore"
   ]
  },
  {
   "cell_type": "code",
   "execution_count": null,
   "metadata": {},
   "outputs": [
    {
     "name": "stdout",
     "output_type": "stream",
     "text": [
      "Opening browser for Spotify login...\n"
     ]
    }
   ],
   "source": [
    "import tekore as tk\n",
    "\n",
    "#geting the autentication token\n",
    "conf = (\"47721e5988094299b2a980889eea6403\", \"8bccab59ae3b428496a12572fcb36ad6\",\"https://sites.google.com/view/cs110-final-project/home\")\n",
    "token = tk.prompt_for_user_token(*conf, scope=tk.scope.every)\n",
    "spotify = tk.Spotify(token)\n",
    "\n",
    "top_tracks = spotify.current_user_top_tracks(limit=10)  #gets the 10 top tracks"
   ]
  },
  {
   "cell_type": "code",
   "execution_count": 15,
   "metadata": {},
   "outputs": [
    {
     "name": "stdout",
     "output_type": "stream",
     "text": [
      "Relaxa! ['Haikaiss', 'Neo Beats', 'Cortesia da Casa', 'Ursso']\n",
      "Linda, Louca e Mimada ['Oriente', 'Rebeca']\n",
      "Pride and Joy ['Stevie Ray Vaughan']\n",
      "Sultans Of Swing ['Dire Straits']\n",
      "Céu Azul ['Charlie Brown Jr.']\n",
      "Philipa ['The Touré-Raichel Collective', 'Idan Raichel', 'Vieux Farka Touré']\n",
      "Here I Go Again ['Whitesnake']\n",
      "Beastly ['Vulfpeck']\n",
      "Zero ['Liniker e os Caramelows']\n",
      "Boredom ['Tyler, The Creator', 'Rex Orange County', 'Anna of the North']\n"
     ]
    }
   ],
   "source": [
    "#some songs have some info in the title that can make the website with the lyics confused, like \"Here I Go Again (2011-remastered)\"\n",
    "bad_for_song = ['(','-']  \n",
    "\n",
    "for i in top_tracks.items:\n",
    "    for j in range(len(i.name)-1):\n",
    "        if i.name[j] in bad_for_song:   #if I find a ( or a -, I delete whatever comes after it from the song title\n",
    "            i.name = i.name[:j-1]\n",
    "            break\n",
    "    print(i.name,[j.name for j in i.artists])"
   ]
  },
  {
   "cell_type": "markdown",
   "metadata": {},
   "source": [
    "## Experimenting with LyricsGenius API ##\n",
    "\n",
    "This was also the simplest API I found for working with lyrics of songs. Using an API of an existing database like this one is a much more effective and easier way of getting the job done without having to do a whole web search protocol from scratch in order to get some simple lyrics from a song.\n",
    "\n",
    "https://pypi.org/project/lyricsgenius/"
   ]
  },
  {
   "cell_type": "code",
   "execution_count": 16,
   "metadata": {},
   "outputs": [
    {
     "name": "stdout",
     "output_type": "stream",
     "text": [
      "Requirement already satisfied: lyricsgenius in c:\\programdata\\anaconda3\\lib\\site-packages (2.0.2)\n",
      "Requirement already satisfied: beautifulsoup4>=4.6.0 in c:\\programdata\\anaconda3\\lib\\site-packages (from lyricsgenius) (4.7.1)\n",
      "Requirement already satisfied: requests>=2.20.0 in c:\\programdata\\anaconda3\\lib\\site-packages (from lyricsgenius) (2.22.0)\n",
      "Requirement already satisfied: soupsieve>=1.2 in c:\\programdata\\anaconda3\\lib\\site-packages (from beautifulsoup4>=4.6.0->lyricsgenius) (1.8)\n",
      "Requirement already satisfied: urllib3!=1.25.0,!=1.25.1,<1.26,>=1.21.1 in c:\\programdata\\anaconda3\\lib\\site-packages (from requests>=2.20.0->lyricsgenius) (1.24.2)\n",
      "Requirement already satisfied: chardet<3.1.0,>=3.0.2 in c:\\programdata\\anaconda3\\lib\\site-packages (from requests>=2.20.0->lyricsgenius) (3.0.4)\n",
      "Requirement already satisfied: certifi>=2017.4.17 in c:\\programdata\\anaconda3\\lib\\site-packages (from requests>=2.20.0->lyricsgenius) (2019.6.16)\n",
      "Requirement already satisfied: idna<2.9,>=2.5 in c:\\programdata\\anaconda3\\lib\\site-packages (from requests>=2.20.0->lyricsgenius) (2.8)\n",
      "Note: you may need to restart the kernel to use updated packages.\n"
     ]
    },
    {
     "name": "stderr",
     "output_type": "stream",
     "text": [
      "WARNING: You are using pip version 20.0.2; however, version 20.3.1 is available.\n",
      "You should consider upgrading via the 'C:\\ProgramData\\Anaconda3\\python.exe -m pip install --upgrade pip' command.\n"
     ]
    }
   ],
   "source": [
    "pip install lyricsgenius"
   ]
  },
  {
   "cell_type": "code",
   "execution_count": 17,
   "metadata": {},
   "outputs": [
    {
     "name": "stdout",
     "output_type": "stream",
     "text": [
      "Searching for \"Relaxa!\" by Haikaiss...\n",
      "Done.\n",
      "Searching for \"Linda, Louca e Mimada\" by Oriente...\n",
      "Done.\n",
      "Searching for \"Pride and Joy\" by Stevie Ray Vaughan...\n",
      "Done.\n",
      "Searching for \"Sultans Of Swing\" by Dire Straits...\n",
      "Done.\n",
      "Searching for \"Céu Azul\" by Charlie Brown Jr....\n",
      "Done.\n",
      "Searching for \"Philipa\" by The Touré-Raichel Collective...\n",
      "No results found for: 'Philipa The Touré-Raichel Collective'\n",
      "Searching for \"Here I Go Again\" by Whitesnake...\n",
      "Done.\n",
      "Searching for \"Beastly\" by Vulfpeck...\n",
      "Done.\n",
      "Searching for \"Zero\" by Liniker e os Caramelows...\n",
      "Done.\n",
      "Searching for \"Boredom\" by Tyler, The Creator...\n",
      "Done.\n"
     ]
    },
    {
     "data": {
      "text/plain": [
       "[('Relaxa!', 'Haikaiss'),\n",
       " ('Linda, Louca e Mimada', 'Oriente'),\n",
       " ('Pride and Joy', 'Stevie Ray Vaughan and Double Trouble'),\n",
       " ('Sultans of Swing', 'Dire Straits'),\n",
       " ('Céu Azul', 'Charlie Brown Jr.'),\n",
       " None,\n",
       " ('Here I Go Again', 'Whitesnake'),\n",
       " ('Beastly', 'Vulfpeck'),\n",
       " ('Zero', 'Liniker e os Caramelows'),\n",
       " ('Boredom', 'Tyler, The Creator')]"
      ]
     },
     "execution_count": 17,
     "metadata": {},
     "output_type": "execute_result"
    }
   ],
   "source": [
    "import lyricsgenius\n",
    "\n",
    "#token for the API\n",
    "genius = lyricsgenius.Genius(\"CHIZ8mkPTjY4IJBKxF6dni13TDPlsBhxLN04YgXv1El3yBgGA8OOkpn3I35Eo0WK\")\n",
    "\n",
    "genius.response_format = 'plain' #setting the text as plain text\n",
    "\n",
    "songs_with_lyrics = [genius.search_song(i.name, i.artists[0].name) for i in top_tracks.items] #gets the lyrics of my top tracks\n",
    "             \n",
    "songs_with_lyrics"
   ]
  },
  {
   "cell_type": "markdown",
   "metadata": {},
   "source": [
    "## Combining all ##"
   ]
  },
  {
   "cell_type": "code",
   "execution_count": 18,
   "metadata": {},
   "outputs": [],
   "source": [
    "class LyricsTable:\n",
    "    def __init__(self, word_list = None, bad_words = []):\n",
    "        \"\"\"Creates the Hash Table instane, inserts initial words if provided.\n",
    "        \n",
    "        Parameters\n",
    "        ----------\n",
    "        word_list : list\n",
    "            List of strings to be inserted upon creation.\n",
    "            \n",
    "        bad_words : list\n",
    "            List of words that won't be counted in the most common words.\n",
    "        \"\"\"\n",
    "        self.word_list = word_list\n",
    "        self.data = {}\n",
    "        self.bad_words = bad_words\n",
    "        \n",
    "        if word_list:\n",
    "            self.insert_word_list()\n",
    "            \n",
    "    def lookup(self, word):\n",
    "        \"\"\"Determines whether a given word is present in the Hash Table.\n",
    "        \n",
    "        Parameters\n",
    "        ----------\n",
    "        word : str\n",
    "            The word to be looked-up.\n",
    "            \n",
    "        Returns\n",
    "        -------\n",
    "        bool\n",
    "            True if the word is present; False otherwise.\n",
    "        \"\"\" \n",
    "        \n",
    "        word = word.lower()   #makes all the letters lower-case  \n",
    "        return (word in self.data)\n",
    "    \n",
    "            \n",
    "    def insert(self, word):\n",
    "        \"\"\"Inserts a word into the Hash Table.\n",
    "        \n",
    "        Parameters\n",
    "        ----------\n",
    "        word : str\n",
    "            The word to be inserted.\n",
    "        \"\"\"\n",
    "        \n",
    "        word = word.lower()   #makes all the letters lower-case\n",
    "        \n",
    "        if self.lookup(word):   #if the word is there\n",
    "            if word in self.bad_words:    #if it is one of the word I don't want to count in the list of repetitions it will be negative\n",
    "                self.data[word] -= 1\n",
    "            else:\n",
    "                self.data[word] += 1\n",
    "        else:\n",
    "            if word in self.bad_words:   #if it is one of the word I don't want to count in the list of repetitions it will be negative\n",
    "                self.data[word] = -1\n",
    "            else:\n",
    "                self.data[word] = 1\n",
    "            \n",
    "            \n",
    "    def insert_word_list(self):\n",
    "        \"\"\"inserts all the words in the word list in the Hash Table.\n",
    "        \n",
    "        Parameters\n",
    "        ----------\n",
    "        None\n",
    "            \n",
    "        Returns\n",
    "        -------\n",
    "        None\n",
    "        \"\"\"\n",
    "        for word in self.word_list:\n",
    "            self.insert(word)\n",
    "            \n",
    "    def k_most_common(self, k):\n",
    "        \"\"\"Finds k words inserted into the Hash Table most often.\n",
    "\n",
    "        Parameters\n",
    "        ----------\n",
    "        k : int\n",
    "            Number of most common words to be returned.\n",
    "\n",
    "        Returns\n",
    "        ----------\n",
    "        list\n",
    "            List of tuples.\n",
    "            \n",
    "            Each tuple entry consists of the word and its frequency.\n",
    "            The entries are sorted by frequency.\n",
    "        \"\"\"\n",
    "        \n",
    "        k_most_common_keys = heapq.nlargest(k, self.data, key=self.data.get)  #gets the k largest elements, by counter\n",
    "        return [(i,self.data[i]) for i in k_most_common_keys]\n",
    "    \n",
    "    def repetitions(self, word):\n",
    "        \"\"\"finds the amount of times a word shows up in the HT.\n",
    "\n",
    "        Parameters\n",
    "        ----------\n",
    "        word : str\n",
    "            word you wnat to know the amount of times it shows up.\n",
    "\n",
    "        Returns\n",
    "        ----------\n",
    "        int\n",
    "            number of times the word shows up.\n",
    "            \n",
    "        \"\"\"\n",
    "        \n",
    "        if self.lookup(word):  #if the word is in the HT\n",
    "            return abs(self.data[word])  #return the counter of the word (abs because the bad words are negative)\n",
    "        return 0\n",
    "    \n",
    "def initSpotify():\n",
    "    \"\"\"Initializes the autentication for the Spotify API.\n",
    "\n",
    "        Parameters\n",
    "        ----------\n",
    "        None\n",
    "\n",
    "        Returns\n",
    "        ----------\n",
    "        None  \n",
    "        \"\"\"\n",
    "    conf = (\"47721e5988094299b2a980889eea6403\", \"8bccab59ae3b428496a12572fcb36ad6\",\"https://sites.google.com/view/cs110-final-project/home\")\n",
    "    token = tk.prompt_for_user_token(*conf, scope=tk.scope.every)\n",
    "    spotify = tk.Spotify(token)\n",
    "    \n",
    "def getTopSongs(n, time_range):\n",
    "    \"\"\"Gets your top tracks from Spotify.\n",
    "\n",
    "        Parameters\n",
    "        ----------\n",
    "        n : int\n",
    "            number you tracks to get\n",
    "            \n",
    "        time_range : srt\n",
    "            range of the top track (long_term (forever), medium_term (last 6 months), short_term (last month))\n",
    "\n",
    "        Returns\n",
    "        ----------\n",
    "        list\n",
    "            list if top tracks\n",
    "        \"\"\"    \n",
    "    top = spotify.current_user_top_tracks(limit=n, time_range=time_range)  #gets top tracks\n",
    "    \n",
    "    #some songs have some info in the title that can make the website with the lyics confused, like \"Here I Go Again (2011-remastered)\"\n",
    "    bad_for_song = ['(','-']\n",
    "    \n",
    "    for i in top.items:\n",
    "        for j in range(len(i.name)-1):\n",
    "            if i.name[j] in bad_for_song: #if I find a ( or a -, I delete whatever comes after it from the song title\n",
    "                i.name = i.name[:j-1]\n",
    "                break\n",
    "    return top\n",
    "\n",
    "def getLyrics(song):\n",
    "    \"\"\"Gets the lyrics of a song.\n",
    "\n",
    "        Parameters\n",
    "        ----------\n",
    "        song : song object\n",
    "            song\n",
    "        \n",
    "        Returns\n",
    "        ----------\n",
    "        song object\n",
    "            song with the lyrics as an atribute\n",
    "        None\n",
    "            if no song\n",
    "        \"\"\" \n",
    "    if song:\n",
    "        return genius.search_song(song.name, song.artists[0].name)\n",
    "    else:\n",
    "        return None\n",
    "\n",
    "def List_of_lyrics(n, time_range):\n",
    "    \"\"\"Creates a list of song lyrics from your top tracks on Spotify.\n",
    "\n",
    "        Parameters\n",
    "        ----------\n",
    "        n : int\n",
    "            number you tracks to get\n",
    "            \n",
    "        time_range : srt\n",
    "            range of the top track (long_term (forever), medium_term (last 6 months), short_term (last month))\n",
    "\n",
    "        Returns\n",
    "        ----------\n",
    "        list\n",
    "            list if top tracks with lyrics as an atribute\n",
    "        \"\"\" \n",
    "    \n",
    "    initSpotify()\n",
    "    \n",
    "    top_songs = getTopSongs(n, time_range)\n",
    "    \n",
    "    return [getLyrics(i) for i in top_songs.items]\n",
    "\n",
    "def createWordbank(n, time_range):\n",
    "    \"\"\"creates a bank of the words in the lyrics of your top tracks on Spotify\n",
    "\n",
    "        Parameters\n",
    "        ----------\n",
    "        n : int\n",
    "            number you tracks to get\n",
    "            \n",
    "        time_range : srt\n",
    "            range of the top track (long_term (forever), medium_term (last 6 months), short_term (last month))\n",
    "\n",
    "        Returns\n",
    "        ----------\n",
    "        list\n",
    "            list words\n",
    "        \"\"\" \n",
    "    lyrics = List_of_lyrics(n, time_range)  #list of songs with lyrics\n",
    "    wordbank = []  \n",
    "    for i in lyrics:  #iterates through the songs\n",
    "        if i:  #if there is a song\n",
    "            #adds the words to the wordbank\n",
    "            wordbank += i.lyrics.replace(\"!\", \"\").replace(\"?\", \"\").replace(\".\", \"\").replace(\",\", \"\").replace(\";\", \"\").replace(\"[Verse\", \"\").replace(\"1]\", \"\").replace(\"2]\", \"\").replace(\"3]\", \"\").replace(\"4]\", \"\").split()\n",
    "    return wordbank        "
   ]
  },
  {
   "cell_type": "markdown",
   "metadata": {},
   "source": [
    "Feel free to play around with this part of the code and experiment with different numbers of top tracks, most common words, and time ranges. <br>\n",
    "For any authentication errors, please contact me, it might be that the keys have expired and I have to provide new ones. <br>\n",
    "If you do not use Spotify please refer to the output of the code in the pdf with outputs from my account."
   ]
  },
  {
   "cell_type": "code",
   "execution_count": 1,
   "metadata": {},
   "outputs": [
    {
     "ename": "NameError",
     "evalue": "name 'createWordbank' is not defined",
     "output_type": "error",
     "traceback": [
      "\u001b[1;31m---------------------------------------------------------------------------\u001b[0m",
      "\u001b[1;31mNameError\u001b[0m                                 Traceback (most recent call last)",
      "\u001b[1;32m<ipython-input-1-ad61302dcca5>\u001b[0m in \u001b[0;36m<module>\u001b[1;34m\u001b[0m\n\u001b[1;32m----> 1\u001b[1;33m \u001b[0mwordbank\u001b[0m \u001b[1;33m=\u001b[0m \u001b[0mcreateWordbank\u001b[0m\u001b[1;33m(\u001b[0m\u001b[1;36m10\u001b[0m\u001b[1;33m,\u001b[0m\u001b[1;34m'long_term'\u001b[0m\u001b[1;33m)\u001b[0m\u001b[1;33m\u001b[0m\u001b[1;33m\u001b[0m\u001b[0m\n\u001b[0m\u001b[0;32m      2\u001b[0m \u001b[1;33m\u001b[0m\u001b[0m\n\u001b[0;32m      3\u001b[0m \u001b[1;31m#excluding the words I don't want to count in my list of repetitions. Feel free to add more or take some out as you want\u001b[0m\u001b[1;33m\u001b[0m\u001b[1;33m\u001b[0m\u001b[1;33m\u001b[0m\u001b[0m\n\u001b[0;32m      4\u001b[0m bad_words = ['a','o','e','and','or','i','they','to','para','ele','ela','he','she','it','was','is','am','you','tu','by',\n\u001b[0;32m      5\u001b[0m              \u001b[1;34m'pra'\u001b[0m\u001b[1;33m,\u001b[0m\u001b[1;34m'the'\u001b[0m\u001b[1;33m,\u001b[0m\u001b[1;34m'que'\u001b[0m\u001b[1;33m,\u001b[0m\u001b[1;34m'do'\u001b[0m\u001b[1;33m,\u001b[0m\u001b[1;34m'eu'\u001b[0m\u001b[1;33m,\u001b[0m\u001b[1;34m'de'\u001b[0m\u001b[1;33m,\u001b[0m\u001b[1;34m'é'\u001b[0m\u001b[1;33m,\u001b[0m\u001b[1;34m'of'\u001b[0m\u001b[1;33m,\u001b[0m\u001b[1;34m\"she's\"\u001b[0m\u001b[1;33m,\u001b[0m\u001b[1;34m\"he's\"\u001b[0m\u001b[1;33m,\u001b[0m\u001b[1;34m'me'\u001b[0m\u001b[1;33m,\u001b[0m\u001b[1;34m'um'\u001b[0m\u001b[1;33m,\u001b[0m\u001b[1;34m'se'\u001b[0m\u001b[1;33m,\u001b[0m\u001b[1;34m'te'\u001b[0m\u001b[1;33m,\u001b[0m\u001b[1;34m'that'\u001b[0m\u001b[1;33m,\u001b[0m\u001b[1;34m'on'\u001b[0m\u001b[1;33m,\u001b[0m \u001b[1;34m'in'\u001b[0m\u001b[1;33m,\u001b[0m \u001b[1;34m\"i'm\"\u001b[0m\u001b[1;33m,\u001b[0m \u001b[1;34m'oh'\u001b[0m\u001b[1;33m,\u001b[0m\u001b[1;33m\u001b[0m\u001b[1;33m\u001b[0m\u001b[0m\n",
      "\u001b[1;31mNameError\u001b[0m: name 'createWordbank' is not defined"
     ]
    }
   ],
   "source": [
    "wordbank = createWordbank(10,'long_term')\n",
    "\n",
    "#excluding the words I don't want to count in my list of repetitions. Feel free to add more or take some out as you want\n",
    "bad_words = ['a','o','e','and','or','i','they','to','para','ele','ela','he','she','it','was','is','am','you','tu','by',\n",
    "             'pra','the','que','do','eu','de','é','of',\"she's\",\"he's\",'me','um','se','te','that','on', 'in', \"i'm\", 'oh',\n",
    "            'for', 'be','[chorus]',\"i've\",'so','this','if']\n",
    "\n",
    "\n",
    "songTable = LyricsTable(wordbank,bad_words)\n",
    "\n",
    "print(songTable.k_most_common(20))"
   ]
  },
  {
   "cell_type": "code",
   "execution_count": 21,
   "metadata": {},
   "outputs": [
    {
     "data": {
      "text/plain": [
       "5"
      ]
     },
     "execution_count": 21,
     "metadata": {},
     "output_type": "execute_result"
    }
   ],
   "source": [
    "songTable.repetitions('need')"
   ]
  },
  {
   "cell_type": "markdown",
   "metadata": {},
   "source": [
    "# LOs and HCs #"
   ]
  },
  {
   "cell_type": "markdown",
   "metadata": {},
   "source": [
    "### LOs ###\n",
    "\n",
    "#DataStructes - Used, modified, and explained different data-structures, providing technical information about them. Also compared 2 different types of data-structures for the same application, using both an experimental and analytical approach.\n",
    "\n",
    "#RandomizationTechniques - Used randomization techniques when doing the test to compare the data structures in order to get a less biased bank of words and reduce the chance of skewing my results in favor of one data-structure over the other. \n",
    "\n",
    "#ComputationalSolutions - Effectively broke down the different steps of the problem, formulating different algorithmic solutions, in order to later combine them and design an elegant application.\n",
    "\n",
    "#ComputationalCritique - Identified strengths and weaknesses of the different data-structures and decided which one was the best to use given my scenario.\n",
    "\n",
    "#ComplexityAnalisis - Carefully analyzed the asymptotic behavior of my solutions both analytically and experimentally, using this result to decide which one was more effective.\n",
    "\n",
    "#PythonPrograming - Effectively used libraries and APIs, combined with my own solutions and codes to design a python application to my problem."
   ]
  },
  {
   "cell_type": "markdown",
   "metadata": {},
   "source": [
    "### HCs ###\n",
    "\n",
    "#communicationdesign - Designed a code that is easy to use and provided a clear explanation on how to use it and what to do if it does not work, using memes and informal language as a way for the user to better engage with the application.\n",
    "\n",
    "#selfawareness - On my initial proposal I had another optional item that I was planning to do as well. However, I realized that it would be better for me to focus on doing one great and 2 bad. Trying to do the other application on time would have resulted in 2 bad applications instead of 1 good one.\n",
    "\n",
    "#organization - Clearly organized my code dividing it into sub-parts and providing good comments and explanations that will help anyone that reads it to understand it better.\n"
   ]
  },
  {
   "cell_type": "code",
   "execution_count": null,
   "metadata": {},
   "outputs": [],
   "source": []
  }
 ],
 "metadata": {
  "kernelspec": {
   "display_name": "Python 3",
   "language": "python",
   "name": "python3"
  },
  "language_info": {
   "codemirror_mode": {
    "name": "ipython",
    "version": 3
   },
   "file_extension": ".py",
   "mimetype": "text/x-python",
   "name": "python",
   "nbconvert_exporter": "python",
   "pygments_lexer": "ipython3",
   "version": "3.7.3"
  }
 },
 "nbformat": 4,
 "nbformat_minor": 2
}
